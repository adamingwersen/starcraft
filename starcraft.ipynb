{
 "cells": [
  {
   "cell_type": "code",
   "execution_count": 81,
   "metadata": {},
   "outputs": [],
   "source": [
    "import pandas as pd\n",
    "import numpy as np"
   ]
  },
  {
   "cell_type": "code",
   "execution_count": 2,
   "metadata": {},
   "outputs": [],
   "source": [
    "data = pd.read_csv('sc2-matches-history.csv')"
   ]
  },
  {
   "cell_type": "code",
   "execution_count": 15,
   "metadata": {},
   "outputs": [
    {
     "data": {
      "text/plain": [
       "0     [loser]\n",
       "1    [winner]\n",
       "2     [loser]\n",
       "3     [loser]\n",
       "4     [loser]\n",
       "Name: player_1_match_status, dtype: object"
      ]
     },
     "execution_count": 15,
     "metadata": {},
     "output_type": "execute_result"
    }
   ],
   "source": [
    "k = data.head(5)\n",
    "k['player_1_match_status']"
   ]
  },
  {
   "cell_type": "code",
   "execution_count": null,
   "metadata": {},
   "outputs": [],
   "source": [
    "len(data['player_1'].unique())"
   ]
  },
  {
   "cell_type": "code",
   "execution_count": 84,
   "metadata": {},
   "outputs": [],
   "source": [
    "data['p1_win'] = np.where(data['player_1_match_status'] == '[winner]', 1, 0)"
   ]
  },
  {
   "cell_type": "code",
   "execution_count": 126,
   "metadata": {},
   "outputs": [],
   "source": [
    "agg = data.groupby([\"player_1\"])[\"p1_win\"].mean().reset_index()\n",
    "agg['count'] = data.groupby([\"player_1\"])[\"p1_win\"].count().reset_index()['p1_win']\n",
    "top_players = list(agg.query('count >= 1500')['player_1'])"
   ]
  },
  {
   "cell_type": "code",
   "execution_count": 127,
   "metadata": {},
   "outputs": [
    {
     "data": {
      "text/plain": [
       "['Beastyqt',\n",
       " 'Bly',\n",
       " 'DIMAGA',\n",
       " 'DemiLove',\n",
       " 'Elazer',\n",
       " 'GoOdy',\n",
       " 'GuMiho',\n",
       " 'HyuN',\n",
       " 'Kas',\n",
       " 'KeeN',\n",
       " 'Lillekanin',\n",
       " 'MaNa',\n",
       " 'Nerchio',\n",
       " 'Snute',\n",
       " 'Tefel',\n",
       " 'aLive']"
      ]
     },
     "execution_count": 127,
     "metadata": {},
     "output_type": "execute_result"
    }
   ],
   "source": [
    "top_players"
   ]
  },
  {
   "cell_type": "code",
   "execution_count": null,
   "metadata": {},
   "outputs": [],
   "source": [
    "data['p1_win'] = "
   ]
  },
  {
   "cell_type": "code",
   "execution_count": 20,
   "metadata": {},
   "outputs": [],
   "source": [
    "wins = data.query('player_1_match_status == \"[winner]\"')\n",
    "loss = data.query('player_1_match_status == \"[loser]\"')"
   ]
  },
  {
   "cell_type": "code",
   "execution_count": 70,
   "metadata": {},
   "outputs": [],
   "source": [
    "gp = data.groupby(['player_1', 'player_1_match_status'])['player_1'].count()\n",
    "gp = gp.to_frame()"
   ]
  },
  {
   "cell_type": "code",
   "execution_count": 79,
   "metadata": {},
   "outputs": [
    {
     "ename": "SyntaxError",
     "evalue": "invalid syntax (<unknown>, line 1)",
     "output_type": "error",
     "traceback": [
      "Traceback \u001b[0;36m(most recent call last)\u001b[0m:\n",
      "  File \u001b[1;32m\"/home/adam/venvs/twitter/lib/python3.6/site-packages/IPython/core/interactiveshell.py\"\u001b[0m, line \u001b[1;32m3267\u001b[0m, in \u001b[1;35mrun_code\u001b[0m\n    exec(code_obj, self.user_global_ns, self.user_ns)\n",
      "  File \u001b[1;32m\"<ipython-input-79-4de51e8562fc>\"\u001b[0m, line \u001b[1;32m1\u001b[0m, in \u001b[1;35m<module>\u001b[0m\n    data.query('select player_1 group by ')\n",
      "  File \u001b[1;32m\"/home/adam/venvs/twitter/lib/python3.6/site-packages/pandas/core/frame.py\"\u001b[0m, line \u001b[1;32m2847\u001b[0m, in \u001b[1;35mquery\u001b[0m\n    res = self.eval(expr, **kwargs)\n",
      "  File \u001b[1;32m\"/home/adam/venvs/twitter/lib/python3.6/site-packages/pandas/core/frame.py\"\u001b[0m, line \u001b[1;32m2962\u001b[0m, in \u001b[1;35meval\u001b[0m\n    return _eval(expr, inplace=inplace, **kwargs)\n",
      "  File \u001b[1;32m\"/home/adam/venvs/twitter/lib/python3.6/site-packages/pandas/core/computation/eval.py\"\u001b[0m, line \u001b[1;32m291\u001b[0m, in \u001b[1;35meval\u001b[0m\n    truediv=truediv)\n",
      "  File \u001b[1;32m\"/home/adam/venvs/twitter/lib/python3.6/site-packages/pandas/core/computation/expr.py\"\u001b[0m, line \u001b[1;32m739\u001b[0m, in \u001b[1;35m__init__\u001b[0m\n    self.terms = self.parse()\n",
      "  File \u001b[1;32m\"/home/adam/venvs/twitter/lib/python3.6/site-packages/pandas/core/computation/expr.py\"\u001b[0m, line \u001b[1;32m756\u001b[0m, in \u001b[1;35mparse\u001b[0m\n    return self._visitor.visit(self.expr)\n",
      "  File \u001b[1;32m\"/home/adam/venvs/twitter/lib/python3.6/site-packages/pandas/core/computation/expr.py\"\u001b[0m, line \u001b[1;32m317\u001b[0m, in \u001b[1;35mvisit\u001b[0m\n    raise e\n",
      "  File \u001b[1;32m\"/home/adam/venvs/twitter/lib/python3.6/site-packages/pandas/core/computation/expr.py\"\u001b[0m, line \u001b[1;32m311\u001b[0m, in \u001b[1;35mvisit\u001b[0m\n    node = ast.fix_missing_locations(ast.parse(clean))\n",
      "\u001b[0;36m  File \u001b[0;32m\"/usr/lib/python3.6/ast.py\"\u001b[0;36m, line \u001b[0;32m35\u001b[0;36m, in \u001b[0;35mparse\u001b[0;36m\u001b[0m\n\u001b[0;31m    return compile(source, filename, mode, PyCF_ONLY_AST)\u001b[0m\n",
      "\u001b[0;36m  File \u001b[0;32m\"<unknown>\"\u001b[0;36m, line \u001b[0;32m1\u001b[0m\n\u001b[0;31m    select player_1 group by\u001b[0m\n\u001b[0m                  ^\u001b[0m\n\u001b[0;31mSyntaxError\u001b[0m\u001b[0;31m:\u001b[0m invalid syntax\n"
     ]
    }
   ],
   "source": []
  },
  {
   "cell_type": "code",
   "execution_count": 78,
   "metadata": {},
   "outputs": [
    {
     "data": {
      "text/html": [
       "<div>\n",
       "<style scoped>\n",
       "    .dataframe tbody tr th:only-of-type {\n",
       "        vertical-align: middle;\n",
       "    }\n",
       "\n",
       "    .dataframe tbody tr th {\n",
       "        vertical-align: top;\n",
       "    }\n",
       "\n",
       "    .dataframe thead th {\n",
       "        text-align: right;\n",
       "    }\n",
       "</style>\n",
       "<table border=\"1\" class=\"dataframe\">\n",
       "  <thead>\n",
       "    <tr style=\"text-align: right;\">\n",
       "      <th></th>\n",
       "      <th></th>\n",
       "      <th>player_1</th>\n",
       "    </tr>\n",
       "    <tr>\n",
       "      <th>player_1</th>\n",
       "      <th>player_1_match_status</th>\n",
       "      <th></th>\n",
       "    </tr>\n",
       "  </thead>\n",
       "  <tbody>\n",
       "    <tr>\n",
       "      <th rowspan=\"2\" valign=\"top\">ABomB</th>\n",
       "      <th>[loser]</th>\n",
       "      <td>66</td>\n",
       "    </tr>\n",
       "    <tr>\n",
       "      <th>[winner]</th>\n",
       "      <td>57</td>\n",
       "    </tr>\n",
       "    <tr>\n",
       "      <th>AK</th>\n",
       "      <th>[loser]</th>\n",
       "      <td>133</td>\n",
       "    </tr>\n",
       "  </tbody>\n",
       "</table>\n",
       "</div>"
      ],
      "text/plain": [
       "                                player_1\n",
       "player_1 player_1_match_status          \n",
       "ABomB    [loser]                      66\n",
       "         [winner]                     57\n",
       "AK       [loser]                     133"
      ]
     },
     "execution_count": 78,
     "metadata": {},
     "output_type": "execute_result"
    }
   ],
   "source": [
    "gp[0:3]"
   ]
  },
  {
   "cell_type": "code",
   "execution_count": null,
   "metadata": {},
   "outputs": [],
   "source": []
  }
 ],
 "metadata": {
  "kernelspec": {
   "display_name": "twitter",
   "language": "python",
   "name": "twitter"
  },
  "language_info": {
   "codemirror_mode": {
    "name": "ipython",
    "version": 3
   },
   "file_extension": ".py",
   "mimetype": "text/x-python",
   "name": "python",
   "nbconvert_exporter": "python",
   "pygments_lexer": "ipython3",
   "version": "3.6.7"
  }
 },
 "nbformat": 4,
 "nbformat_minor": 2
}
